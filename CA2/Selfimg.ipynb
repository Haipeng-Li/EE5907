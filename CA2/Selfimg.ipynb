{
 "cells": [
  {
   "cell_type": "code",
   "execution_count": 2,
   "id": "f5d92d8c",
   "metadata": {},
   "outputs": [],
   "source": [
    "import cv2\n",
    "import os\n",
    "def selfimg_preprocess(path):\n",
    "    # crop -> grayscale -> resize to 32x32\n",
    "    for i, im in enumerate(os.listdir(path)):\n",
    "        im_path = os.path.join(path, im)\n",
    "        img = cv2.imread(im_path, cv2.IMREAD_GRAYSCALE)\n",
    "        img = cv2.resize(img, (32,32))\n",
    "        cv2.imwrite(os.path.join(path, f'{i}.jpg'), img)\n",
    "\n",
    "\n",
    "    \n",
    "if __name__=='__main__':\n",
    "    selfimg_preprocess('./selfimg')"
   ]
  },
  {
   "cell_type": "code",
   "execution_count": null,
   "id": "34162dcf",
   "metadata": {},
   "outputs": [],
   "source": []
  }
 ],
 "metadata": {
  "kernelspec": {
   "display_name": "Python 3 (ipykernel)",
   "language": "python",
   "name": "python3"
  },
  "language_info": {
   "codemirror_mode": {
    "name": "ipython",
    "version": 3
   },
   "file_extension": ".py",
   "mimetype": "text/x-python",
   "name": "python",
   "nbconvert_exporter": "python",
   "pygments_lexer": "ipython3",
   "version": "3.9.13"
  }
 },
 "nbformat": 4,
 "nbformat_minor": 5
}
