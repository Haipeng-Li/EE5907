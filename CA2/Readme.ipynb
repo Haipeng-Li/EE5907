{
 "cells": [
  {
   "cell_type": "markdown",
   "id": "544d2f5b",
   "metadata": {},
   "source": [
    "## About\n",
    "This README file describing the supplemental content for the EE5907 CA2. "
   ]
  },
  {
   "cell_type": "markdown",
   "id": "92163059",
   "metadata": {},
   "source": [
    "## Requirements\n",
    "Written by **Python 3.9.13** and **Jupyter Notebook**<br>\n",
    "Please install the required packages using the following commands:<br>\n",
    "`pip install -U libsvm-official`<br>\n",
    "`pip install tensorflow===2.10.0`<br>\n",
    "`pip install opencv-python`"
   ]
  },
  {
   "cell_type": "markdown",
   "id": "c7fed640",
   "metadata": {},
   "source": [
    "## Notes\n",
    "Running code by **Jupyter Notebook**<br>\n",
    "\"Selfimg.ipynb\" contains the code for preprocessing self-photos to grayscale, and reshape to 32x32.<br>\n",
    "\"dataset.ipynb\" contains the code for basic dataset preprocessing, showing some information of dataset.<br>\n",
    "\"PCA.ipynb\",\"LDA.ipynb\",\"SVM.ipynb\",\"CNN_tf.ipynb\" contain the completed code(include the dataset preprocess code), and can run independently.<br>\n",
    "\n",
    "\"PIE\" file contains the whole CMU PIE dataset.<br>\n",
    "\"selfimg\" file contains the original and processed self-photos.<br>"
   ]
  },
  {
   "cell_type": "code",
   "execution_count": null,
   "id": "5f5b30c1",
   "metadata": {},
   "outputs": [],
   "source": []
  }
 ],
 "metadata": {
  "kernelspec": {
   "display_name": "Python 3 (ipykernel)",
   "language": "python",
   "name": "python3"
  },
  "language_info": {
   "codemirror_mode": {
    "name": "ipython",
    "version": 3
   },
   "file_extension": ".py",
   "mimetype": "text/x-python",
   "name": "python",
   "nbconvert_exporter": "python",
   "pygments_lexer": "ipython3",
   "version": "3.9.13"
  }
 },
 "nbformat": 4,
 "nbformat_minor": 5
}
